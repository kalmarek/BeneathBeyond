{
 "cells": [
  {
   "cell_type": "code",
   "execution_count": 1,
   "metadata": {
    "ExecuteTime": {
     "end_time": "2020-10-21T14:39:08.850000+02:00",
     "start_time": "2020-10-21T12:38:47.384Z"
    }
   },
   "outputs": [
    {
     "name": "stderr",
     "output_type": "stream",
     "text": [
      "\u001b[32m\u001b[1m Activating\u001b[22m\u001b[39m environment at `~/Berlin-dev/BeneathBeyondGame/Project.toml`\n"
     ]
    },
    {
     "name": "stdout",
     "output_type": "stream",
     "text": [
      "polymake version 4.2\n",
      "Copyright (c) 1997-2020\n",
      "Ewgenij Gawrilow, Michael Joswig, and the polymake team\n",
      "Technische Universität Berlin, Germany\n",
      "https://polymake.org\n",
      "\n",
      "This is free software licensed under GPL; see the source for copying conditions.\n",
      "There is NO warranty; not even for MERCHANTABILITY or FITNESS FOR A PARTICULAR PURPOSE.\n",
      "\n"
     ]
    }
   ],
   "source": [
    "using Pkg\n",
    "Pkg.activate(\"..\")\n",
    "using Polymake"
   ]
  },
  {
   "cell_type": "code",
   "execution_count": 2,
   "metadata": {
    "ExecuteTime": {
     "end_time": "2020-10-21T14:39:12.093000+02:00",
     "start_time": "2020-10-21T12:38:48.086Z"
    }
   },
   "outputs": [
    {
     "data": {
      "text/plain": [
       "14-element Array{Int64,1}:\n",
       "  3\n",
       "  5\n",
       "  6\n",
       " 10\n",
       " 12\n",
       " 15\n",
       " 17\n",
       " 18\n",
       " 20\n",
       " 23\n",
       " 24\n",
       " 27\n",
       " 29\n",
       " 30"
      ]
     },
     "execution_count": 2,
     "metadata": {},
     "output_type": "execute_result"
    }
   ],
   "source": [
    "triangulation = [\n",
    "    [2, 4, 7, 9, 16, 31],\n",
    "    [2, 4, 7, 9, 14, 31],\n",
    "    [2, 4, 9, 14, 16, 31],\n",
    "    [2, 7, 9, 16, 19, 31],\n",
    "    [2, 9, 14, 16, 26, 31],\n",
    "    [2, 9, 16, 19, 26, 31],\n",
    "    [4, 7, 9, 16, 21, 31],\n",
    "    [7, 9, 16, 19, 21, 31],\n",
    "    [4, 9, 14, 16, 28, 31],\n",
    "    [4, 9, 16, 21, 28, 31],\n",
    "    [9, 14, 16, 26, 28, 31],\n",
    "    [1, 2, 4, 7, 9, 16],\n",
    "    [1, 2, 7, 9, 16, 19],\n",
    "    [1, 4, 7, 9, 16, 21],\n",
    "    [1, 7, 9, 16, 19, 21],\n",
    "    [2, 4, 7, 14, 22, 31],\n",
    "    [2, 4, 7, 16, 22, 31],\n",
    "    [2, 4, 14, 16, 22, 31],\n",
    "    [2, 7, 16, 19, 22, 31],\n",
    "    [2, 14, 16, 22, 26, 31],\n",
    "    [2, 16, 19, 22, 26, 31],\n",
    "    [4, 7, 16, 21, 22, 31],\n",
    "    [7, 16, 19, 21, 22, 31],\n",
    "    [4, 14, 16, 22, 28, 31],\n",
    "    [4, 16, 21, 22, 28, 31],\n",
    "    [14, 16, 22, 26, 28, 31],\n",
    "    [2, 4, 8, 9, 14, 16],\n",
    "    [2, 8, 9, 14, 16, 26],\n",
    "    [4, 8, 9, 14, 16, 28],\n",
    "    [8, 9, 14, 16, 26, 28],\n",
    "    [2, 7, 9, 11, 14, 31],\n",
    "    [2, 7, 9, 11, 19, 31],\n",
    "    [2, 9, 11, 14, 26, 31],\n",
    "    [2, 9, 11, 19, 26, 31],\n",
    "    [4, 7, 9, 13, 14, 31],\n",
    "    [4, 7, 9, 13, 21, 31],\n",
    "    [4, 9, 13, 14, 28, 31],\n",
    "    [4, 9, 13, 21, 28, 31],\n",
    "    [9, 16, 19, 21, 25, 31],\n",
    "    [9, 16, 19, 25, 26, 31],\n",
    "    [9, 16, 21, 25, 28, 31],\n",
    "    [9, 16, 25, 26, 28, 31],\n",
    "    [1, 2, 4, 8, 9, 16],\n",
    "    [1, 2, 7, 9, 11, 19],\n",
    "    [1, 4, 7, 9, 13, 21],\n",
    "    [1, 9, 16, 19, 21, 25],\n",
    "    [2, 8, 9, 11, 14, 26],\n",
    "    [4, 8, 9, 13, 14, 28],\n",
    "    [7, 9, 11, 13, 14, 31],\n",
    "    [8, 9, 16, 25, 26, 28],\n",
    "    [9, 11, 19, 25, 26, 31],\n",
    "    [9, 13, 21, 25, 28, 31],\n",
    "    [0, 1, 2, 4, 8, 16],\n",
    "    [1, 2, 3, 7, 11, 19],\n",
    "    [1, 4, 5, 7, 13, 21],\n",
    "    [1, 16, 17, 19, 21, 25],\n",
    "    [2, 4, 6, 7, 14, 22],\n",
    "    [2, 8, 10, 11, 14, 26],\n",
    "    [2, 16, 18, 19, 22, 26],\n",
    "    [4, 8, 12, 13, 14, 28],\n",
    "    [4, 16, 20, 21, 22, 28],\n",
    "    [7, 11, 13, 14, 15, 31],\n",
    "    [7, 19, 21, 22, 23, 31],\n",
    "    [8, 16, 24, 25, 26, 28],\n",
    "    [11, 19, 25, 26, 27, 31],\n",
    "    [13, 21, 25, 28, 29, 31],\n",
    "    [14, 22, 26, 28, 30, 31],\n",
    "];\n",
    "\n",
    "[i for i in 1:32 if sum(facet -> i in facet, triangulation)==1]"
   ]
  },
  {
   "cell_type": "code",
   "execution_count": 3,
   "metadata": {
    "ExecuteTime": {
     "end_time": "2020-10-21T14:39:13.652000+02:00",
     "start_time": "2020-10-21T12:38:48.399Z"
    }
   },
   "outputs": [],
   "source": [
    "new_idcs = Vector{Int}[]\n",
    "\n",
    "for i in 2:length(triangulation)\n",
    "    for j in i-1:-1:1\n",
    "        k = setdiff(triangulation[i], triangulation[j])\n",
    "        if length(k) == 1\n",
    "            push!(new_idcs, k)\n",
    "            break\n",
    "        end\n",
    "        if j == 1\n",
    "            @warn(\"couldn't find the placing facet\")\n",
    "        end\n",
    "    end\n",
    "end\n",
    "@assert all(isone, length.(new_idcs))"
   ]
  },
  {
   "cell_type": "code",
   "execution_count": 4,
   "metadata": {
    "ExecuteTime": {
     "end_time": "2020-10-21T14:39:13.806000+02:00",
     "start_time": "2020-10-21T12:38:48.628Z"
    }
   },
   "outputs": [
    {
     "data": {
      "text/plain": [
       "32-element Array{Int64,1}:\n",
       "  2\n",
       "  4\n",
       "  7\n",
       "  9\n",
       " 16\n",
       " 31\n",
       " 14\n",
       " 19\n",
       " 26\n",
       " 21\n",
       " 28\n",
       "  1\n",
       " 22\n",
       "  ⋮\n",
       " 17\n",
       "  6\n",
       " 10\n",
       " 18\n",
       " 12\n",
       " 20\n",
       " 15\n",
       " 23\n",
       " 24\n",
       " 27\n",
       " 29\n",
       " 30"
      ]
     },
     "execution_count": 4,
     "metadata": {},
     "output_type": "execute_result"
    }
   ],
   "source": [
    "p = unique(vcat(triangulation[1], new_idcs...))"
   ]
  },
  {
   "cell_type": "code",
   "execution_count": 5,
   "metadata": {
    "ExecuteTime": {
     "end_time": "2020-10-21T14:39:14.597000+02:00",
     "start_time": "2020-10-21T12:38:48.852Z"
    }
   },
   "outputs": [
    {
     "data": {
      "text/plain": [
       "placing_triangulation(Points; Options) -> Array<Set<Int>>\n",
       "\n",
       " Compute the placing triangulation of the given point set using the beneath-beyond algorithm.\n",
       "\n",
       "Arguments:\n",
       "  Matrix Points the given point set\n",
       "\n",
       "Options: \n",
       "  non_redundant => Bool whether it's already known that Points are non-redundant\n",
       "  permutation => Array<Int> placing order of Points, must be a valid permutation of (0..Points.rows()-1)\n",
       "\n",
       "Returns Array<Set<Int>> \n",
       "\n",
       "Example:\n",
       "\n",
       "   To compute the placing triangulation of the square (of whose vertices we know that\n",
       "    they're non-redundant), do this:\n",
       "   > $t = placing_triangulation(cube(2)->VERTICES, non_redundant=>1);\n",
       "   > print $t;\n",
       "     {0 1 2}\n",
       "     {1 2 3}\n"
      ]
     },
     "execution_count": 5,
     "metadata": {},
     "output_type": "execute_result"
    }
   ],
   "source": [
    "?polytope.placing_triangulation"
   ]
  },
  {
   "cell_type": "code",
   "execution_count": 6,
   "metadata": {
    "ExecuteTime": {
     "end_time": "2020-10-21T14:39:18.077000+02:00",
     "start_time": "2020-10-21T12:38:49.036Z"
    }
   },
   "outputs": [
    {
     "name": "stdout",
     "output_type": "stream",
     "text": [
      "length(tr) = 67\n"
     ]
    },
    {
     "data": {
      "text/plain": [
       "pm::Vector<pm::Rational>\n",
       "32 512 1728 32 1728 32 32 1568 512 2656 32 512 32 512 1568 32 2624 32 32 1120 32 1120 864 32 32 512 1120 32 1120 32 32 2784"
      ]
     },
     "execution_count": 6,
     "metadata": {},
     "output_type": "execute_result"
    }
   ],
   "source": [
    "let c = polytope.cube(5)\n",
    "    tr = polytope.placing_triangulation(c.VERTICES; permutation=Polymake.Vector(p));\n",
    "    @show length(tr)\n",
    "    @pm polytope.gkz_vector(c.VERTICES, tr)\n",
    "end"
   ]
  },
  {
   "cell_type": "code",
   "execution_count": 7,
   "metadata": {
    "ExecuteTime": {
     "end_time": "2020-10-21T14:39:18.639000+02:00",
     "start_time": "2020-10-21T12:38:49.214Z"
    }
   },
   "outputs": [
    {
     "data": {
      "text/plain": [
       "pm::Vector<pm::Rational>\n",
       "1728 1728 1568 2656 2624 2784 1568 1120 1120 1120 1120 512 864 512 512 512 512 32 32 32 32 32 32 32 32 32 32 32 32 32 32 32"
      ]
     },
     "execution_count": 7,
     "metadata": {},
     "output_type": "execute_result"
    }
   ],
   "source": [
    "let c = polytope.cube(5), p = [2, 4, 7, 9, 16, 31, 14, 19, 26, 21, 28, 1, 22, 8, 11, 13, 25, 0, 3, 5, 17, 6, 10, 18, 12, 20, 15, 23, 24, 27, 29, 30]\n",
    "    pts = c.VERTICES[p.+1, :]\n",
    "    tr = polytope.placing_triangulation(pts);\n",
    "    @pm polytope.gkz_vector(pts, tr)\n",
    "end"
   ]
  }
 ],
 "metadata": {
  "@webio": {
   "lastCommId": null,
   "lastKernelId": null
  },
  "kernelspec": {
   "display_name": "Julia 1.5.2",
   "language": "julia",
   "name": "julia-1.5"
  },
  "language_info": {
   "file_extension": ".jl",
   "mimetype": "application/julia",
   "name": "julia",
   "version": "1.5.2"
  },
  "toc": {
   "base_numbering": 1,
   "nav_menu": {},
   "number_sections": true,
   "sideBar": false,
   "skip_h1_title": false,
   "title_cell": "Table of Contents",
   "title_sidebar": "Contents",
   "toc_cell": false,
   "toc_position": {},
   "toc_section_display": true,
   "toc_window_display": false
  }
 },
 "nbformat": 4,
 "nbformat_minor": 4
}
